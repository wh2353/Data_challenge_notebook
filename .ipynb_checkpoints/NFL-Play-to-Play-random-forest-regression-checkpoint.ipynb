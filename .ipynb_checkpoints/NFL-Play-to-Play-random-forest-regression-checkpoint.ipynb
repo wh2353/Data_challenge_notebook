{
 "cells": [
  {
   "cell_type": "code",
   "execution_count": 99,
   "id": "28142338",
   "metadata": {},
   "outputs": [],
   "source": [
    "import pandas as pd\n",
    "import numpy as np\n",
    "import os\n",
    "import pickle\n",
    "import matplotlib.pyplot as plt\n",
    "import seaborn as sns\n",
    "from sklearn import __version__ as sklearn_version\n",
    "from sklearn.model_selection import train_test_split, cross_validate, GridSearchCV, learning_curve\n",
    "from sklearn.preprocessing import StandardScaler, MinMaxScaler\n",
    "from sklearn.ensemble import RandomForestRegressor\n",
    "from sklearn.metrics import r2_score, mean_squared_error, mean_absolute_error\n",
    "from sklearn.pipeline import make_pipeline\n",
    "from sklearn.impute import SimpleImputer\n",
    "from sklearn.feature_selection import SelectKBest, f_regression\n",
    "import datetime"
   ]
  },
  {
   "cell_type": "code",
   "execution_count": 100,
   "id": "164525c6",
   "metadata": {},
   "outputs": [
    {
     "data": {
      "text/plain": [
       "Unnamed: 0                      int64\n",
       "GameId                          int64\n",
       "GameDate                       object\n",
       "Quarter                         int64\n",
       "Minute                          int64\n",
       "                                ...  \n",
       "Formation_NO HUDDLE SHOTGUN     int64\n",
       "Formation_PUNT                  int64\n",
       "Formation_SHOTGUN               int64\n",
       "Formation_UNDER CENTER          int64\n",
       "Formation_WILDCAT               int64\n",
       "Length: 111, dtype: object"
      ]
     },
     "execution_count": 100,
     "metadata": {},
     "output_type": "execute_result"
    }
   ],
   "source": [
    "#read NFL data from the last step\n",
    "final_data =pd.read_csv(\"/home/wenrui/Downloads/preprocessed_nfl_data.csv\")\n",
    "\n",
    "final_data.dtypes"
   ]
  },
  {
   "cell_type": "markdown",
   "id": "cd88a283",
   "metadata": {},
   "source": [
    "## Obtaining all numeric features from the final data and training against Yards\n"
   ]
  },
  {
   "cell_type": "code",
   "execution_count": 101,
   "id": "5068c226",
   "metadata": {},
   "outputs": [
    {
     "name": "stdout",
     "output_type": "stream",
     "text": [
      "                             0  1   2   3   4\n",
      "index                        0  1   2   3   4\n",
      "Quarter                      2  2   2   2   2\n",
      "Minute                       1  1   1   1   1\n",
      "Second                       1  6  10  19  52\n",
      "Down                         1  3   2   2   1\n",
      "...                         .. ..  ..  ..  ..\n",
      "Formation_NO HUDDLE SHOTGUN  0  0   0   0   0\n",
      "Formation_PUNT               0  0   0   0   0\n",
      "Formation_SHOTGUN            0  1   1   1   1\n",
      "Formation_UNDER CENTER       1  0   0   0   0\n",
      "Formation_WILDCAT            0  0   0   0   0\n",
      "\n",
      "[100 rows x 5 columns]\n"
     ]
    }
   ],
   "source": [
    "full_features = final_data.select_dtypes(exclude='object')\n",
    "\n",
    "final_labels = final_data.Yards\n",
    "\n",
    "final_features = full_features.drop(columns=['Unnamed: 0', 'GameId', 'Yards'])\n",
    "\n",
    "final_features = final_features.reset_index()\n",
    "\n",
    "print(final_features.head().T)"
   ]
  },
  {
   "cell_type": "code",
   "execution_count": 102,
   "id": "3b805016",
   "metadata": {},
   "outputs": [],
   "source": [
    "#randomly selected 10000 features\n",
    "\n",
    "subsample_size = 10000\n",
    "\n",
    "selected_indice = np.random.choice(range(len(final_labels)), subsample_size, replace=False)\n",
    "\n",
    "selected_features = final_features.iloc[selected_indice]\n",
    "\n",
    "selected_features = selected_features.drop(columns='index')\n",
    "\n",
    "selected_labels = final_labels[selected_indice]"
   ]
  },
  {
   "cell_type": "markdown",
   "id": "d054bb64",
   "metadata": {},
   "source": [
    "## Split the data into train and test sets"
   ]
  },
  {
   "cell_type": "code",
   "execution_count": 103,
   "id": "c2c6bccc",
   "metadata": {},
   "outputs": [],
   "source": [
    "X_train, X_test, y_train, y_test = train_test_split(selected_features, \n",
    "                                                    selected_labels, test_size=0.3, \n",
    "                                                    random_state=47)"
   ]
  },
  {
   "cell_type": "code",
   "execution_count": 104,
   "id": "3c8aa195",
   "metadata": {},
   "outputs": [
    {
     "name": "stdout",
     "output_type": "stream",
     "text": [
      "training data size is (7000, 99)\n",
      "training label size is (7000,)\n",
      "test data size is (3000, 99)\n",
      "test label size is (3000,)\n"
     ]
    }
   ],
   "source": [
    "print(f\"training data size is {X_train.shape}\")\n",
    "print(f\"training label size is {y_train.shape}\")\n",
    "\n",
    "print(f\"test data size is {X_test.shape}\")\n",
    "print(f\"test label size is {y_test.shape}\")\n"
   ]
  },
  {
   "cell_type": "markdown",
   "id": "1e40ab06",
   "metadata": {},
   "source": [
    "## Train the data with Random Forest model, grid search to identify the best setting"
   ]
  },
  {
   "cell_type": "code",
   "execution_count": 105,
   "id": "0973060a",
   "metadata": {},
   "outputs": [],
   "source": [
    "#Define the RF pipeline\n",
    "RF_pipe = make_pipeline(\n",
    "    SimpleImputer(strategy='median'),\n",
    "    StandardScaler(),\n",
    "    RandomForestRegressor(random_state=47)\n",
    ")"
   ]
  },
  {
   "cell_type": "code",
   "execution_count": 106,
   "id": "847ad75f",
   "metadata": {},
   "outputs": [],
   "source": [
    "#Check the model prediction result on default values\n",
    "rf_default_cv_results = cross_validate(RF_pipe, X_train, y_train, cv=5)"
   ]
  },
  {
   "cell_type": "code",
   "execution_count": 107,
   "id": "7916dc83",
   "metadata": {},
   "outputs": [
    {
     "data": {
      "text/plain": [
       "array([0.56248526, 0.65857291, 0.62363935, 0.67148024, 0.67611207])"
      ]
     },
     "execution_count": 107,
     "metadata": {},
     "output_type": "execute_result"
    }
   ],
   "source": [
    "rf_cv_scores = rf_default_cv_results['test_score']\n",
    "rf_cv_scores"
   ]
  },
  {
   "cell_type": "code",
   "execution_count": 108,
   "id": "21661e48",
   "metadata": {},
   "outputs": [
    {
     "name": "stdout",
     "output_type": "stream",
     "text": [
      "For base model, the cv score mean  = 0.6384579669628667, std = 0.0422003698968264\n"
     ]
    }
   ],
   "source": [
    "print(f\"For base model, the cv score mean  = {np.mean(rf_cv_scores)}, std = {np.std(rf_cv_scores)}\")\n"
   ]
  },
  {
   "cell_type": "markdown",
   "id": "afae5d96",
   "metadata": {},
   "source": [
    "## Hyperparameters tuning"
   ]
  },
  {
   "cell_type": "code",
   "execution_count": 109,
   "id": "c46a37fb",
   "metadata": {},
   "outputs": [
    {
     "data": {
      "text/plain": [
       "{'randomforestregressor__n_estimators': [10,\n",
       "  12,\n",
       "  16,\n",
       "  20,\n",
       "  26,\n",
       "  33,\n",
       "  42,\n",
       "  54,\n",
       "  69,\n",
       "  88,\n",
       "  112,\n",
       "  143,\n",
       "  183,\n",
       "  233,\n",
       "  297,\n",
       "  379,\n",
       "  483,\n",
       "  615,\n",
       "  784,\n",
       "  1000],\n",
       " 'standardscaler': [StandardScaler(), None],\n",
       " 'simpleimputer__strategy': ['mean', 'median']}"
      ]
     },
     "execution_count": 109,
     "metadata": {},
     "output_type": "execute_result"
    }
   ],
   "source": [
    "#build a search grid\n",
    "n_est = [int(n) for n in np.logspace(start=1, stop=3, num=20)]\n",
    "grid_params = {\n",
    "        'randomforestregressor__n_estimators': n_est,\n",
    "        'standardscaler': [StandardScaler(), None],\n",
    "        'simpleimputer__strategy': ['mean', 'median']\n",
    "}\n",
    "grid_params"
   ]
  },
  {
   "cell_type": "code",
   "execution_count": 110,
   "id": "2bdfacb0",
   "metadata": {},
   "outputs": [
    {
     "data": {
      "text/plain": [
       "GridSearchCV(cv=5,\n",
       "             estimator=Pipeline(steps=[('simpleimputer',\n",
       "                                        SimpleImputer(strategy='median')),\n",
       "                                       ('standardscaler', StandardScaler()),\n",
       "                                       ('randomforestregressor',\n",
       "                                        RandomForestRegressor(random_state=47))]),\n",
       "             n_jobs=-1,\n",
       "             param_grid={'randomforestregressor__n_estimators': [10, 12, 16, 20,\n",
       "                                                                 26, 33, 42, 54,\n",
       "                                                                 69, 88, 112,\n",
       "                                                                 143, 183, 233,\n",
       "                                                                 297, 379, 483,\n",
       "                                                                 615, 784,\n",
       "                                                                 1000],\n",
       "                         'simpleimputer__strategy': ['mean', 'median'],\n",
       "                         'standardscaler': [StandardScaler(), None]})"
      ]
     },
     "execution_count": 110,
     "metadata": {},
     "output_type": "execute_result"
    }
   ],
   "source": [
    "#grid search on the training dataset\n",
    "rf_grid_cv = GridSearchCV(RF_pipe, param_grid=grid_params, cv=5, n_jobs=-1)\n",
    "rf_grid_cv.fit(X_train, y_train)"
   ]
  },
  {
   "cell_type": "code",
   "execution_count": 115,
   "id": "e0232117",
   "metadata": {},
   "outputs": [
    {
     "name": "stdout",
     "output_type": "stream",
     "text": [
      "best model settings:\n",
      "\n"
     ]
    },
    {
     "data": {
      "text/plain": [
       "{'randomforestregressor__n_estimators': 615,\n",
       " 'simpleimputer__strategy': 'mean',\n",
       " 'standardscaler': StandardScaler()}"
      ]
     },
     "execution_count": 115,
     "metadata": {},
     "output_type": "execute_result"
    }
   ],
   "source": [
    "#Print the best params (`best_params_` attribute) from the grid search\n",
    "print(\"best model settings:\\n\")\n",
    "rf_grid_cv.best_params_"
   ]
  },
  {
   "cell_type": "code",
   "execution_count": 112,
   "id": "6a5c9226",
   "metadata": {},
   "outputs": [
    {
     "data": {
      "text/plain": [
       "array([0.5624321 , 0.66089687, 0.62519454, 0.67133069, 0.68284061])"
      ]
     },
     "execution_count": 112,
     "metadata": {},
     "output_type": "execute_result"
    }
   ],
   "source": [
    "rf_best_cv_results = cross_validate(rf_grid_cv.best_estimator_, X_train, y_train, cv=5)\n",
    "rf_best_scores = rf_best_cv_results['test_score']\n",
    "rf_best_scores"
   ]
  },
  {
   "cell_type": "code",
   "execution_count": 113,
   "id": "2993d105",
   "metadata": {},
   "outputs": [
    {
     "name": "stdout",
     "output_type": "stream",
     "text": [
      "For Selected Best model, the cv score mean  = 0.6405389622434685, std = 0.04356176577968872\n"
     ]
    }
   ],
   "source": [
    "print(f\"For Selected Best model, the cv score mean  = {np.mean(rf_best_scores)}, std = {np.std(rf_best_scores)}\")"
   ]
  },
  {
   "cell_type": "markdown",
   "id": "59a6b303",
   "metadata": {},
   "source": [
    "## Check on the importance of each feature based on the best random forest model"
   ]
  },
  {
   "cell_type": "code",
   "execution_count": 114,
   "id": "4130109a",
   "metadata": {},
   "outputs": [
    {
     "data": {
      "image/png": "[encoded data removed]",
      "text/plain": [
       "<Figure size 1440x360 with 1 Axes>"
      ]
     },
     "metadata": {
      "needs_background": "light"
     },
     "output_type": "display_data"
    }
   ],
   "source": [
    "#Check the importance of each feature based on best random forest regressor obtained from grid search\n",
    "plt.subplots(figsize=(20, 5))\n",
    "imps = rf_grid_cv.best_estimator_.named_steps.randomforestregressor.feature_importances_\n",
    "rf_feat_imps = pd.Series(imps, index=X_train.columns).sort_values(ascending=False)\n",
    "rf_feat_imps.plot(kind='bar')\n",
    "plt.xlabel('features')\n",
    "plt.ylabel('importance')\n",
    "plt.title('Best random forest regressor feature importances');"
   ]
  },
  {
   "cell_type": "code",
   "execution_count": null,
   "id": "2d74e598",
   "metadata": {},
   "outputs": [],
   "source": []
  }
 ],
 "metadata": {
  "kernelspec": {
   "display_name": "Python 3 (ipykernel)",
   "language": "python",
   "name": "python3"
  },
  "language_info": {
   "codemirror_mode": {
    "name": "ipython",
    "version": 3
   },
   "file_extension": ".py",
   "mimetype": "text/x-python",
   "name": "python",
   "nbconvert_exporter": "python",
   "pygments_lexer": "ipython3",
   "version": "3.8.11"
  }
 },
 "nbformat": 4,
 "nbformat_minor": 5
}
